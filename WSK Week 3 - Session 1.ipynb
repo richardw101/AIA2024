{
 "cells": [
  {
   "cell_type": "markdown",
   "id": "2f4a642b",
   "metadata": {},
   "source": [
    "# Workshop 3 Wherry\n",
    "\n",
    "This notebook will cover the following topics:\n",
    "\n",
    "1. Basic Recursion\n",
    "2. Mathematical problem solving using recursion.\n",
    "3. Recursion versus iteration\n",
    "4. Dynamic programming and big O notation.\n",
    "5. Try and except blocks"
   ]
  },
  {
   "cell_type": "markdown",
   "id": "b638de8a",
   "metadata": {},
   "source": [
    "## 3.1 Basic Recursion (Follow):  \n",
    "\n",
    "**Learning Objectives:**\n",
    "\n",
    "    1. Understand how recursion works\n",
    "    2. Understand how to implement a simple recursion program\n",
    "    3. Understand how a program executes through recursion"
   ]
  },
  {
   "cell_type": "code",
   "execution_count": 9,
   "id": "7f9e28e4",
   "metadata": {},
   "outputs": [
    {
     "name": "stdout",
     "output_type": "stream",
     "text": [
      "Starting main().\n",
      "How many numbers to display? 4\n",
      "In function print_num().\n",
      "In function print_num().\n",
      "In function print_num().\n",
      "In function print_num().\n",
      "Hit base case and popping back up.\n",
      "My num 1\n",
      "Hit base case and popping back up.\n",
      "My num 2\n",
      "Hit base case and popping back up.\n",
      "My num 3\n",
      "Hit base case and popping back up.\n",
      "My num 4\n",
      "thank you. goodbye.\n"
     ]
    }
   ],
   "source": [
    "# add comments \n",
    "\n",
    "def main():\n",
    "    print(\"Starting main().\")\n",
    "    number = 0\n",
    "    number = int(input('How many numbers to display? '))\n",
    "\n",
    "    print_num(number)\n",
    "    print(\"thank you. goodbye.\")\n",
    "\n",
    "    \n",
    "def print_num(n):\n",
    "    print(\"In function print_num().\")\n",
    "    #print(n)\n",
    "    if n > 1:\n",
    "        print_num(n - 1)\n",
    "    print(\"Hit base case and popping back up.\")\n",
    "    print (f\"My num {n}\")\n",
    "    # The order of executed print statements for n=3 is....\n",
    "    # print(1) print(2) print(3)\n",
    "\n",
    "\n",
    "if __name__ == '__main__':\n",
    "    main()"
   ]
  },
  {
   "cell_type": "markdown",
   "id": "c55b4780",
   "metadata": {},
   "source": [
    "### As the above code executes, think about the following questions:\n",
    "\n",
    "1. Map out the execution of the program with print statements.\n",
    "2. Follow the value of n as the program executes.\n",
    "3. How many times does print_num execute before the program terminates?"
   ]
  },
  {
   "cell_type": "markdown",
   "id": "1c843288",
   "metadata": {},
   "source": [
    "## 3.1 Basic Recursion (Group):  \n",
    "\n",
    "**Write a program that will do the following:**\n",
    "\n",
    "    1. Take an integer N input from the user.\n",
    "    2. The program will recursively create N rows of asterisks.\n",
    "    3. Each row N will have N asterisks.\n",
    "    4. Use recursion to accomplish this task.\n",
    "    \n",
    "    For example: N = 3 will produce the following results\n",
    "    1. *\n",
    "    2. **\n",
    "    3. ***\n",
    "    "
   ]
  },
  {
   "cell_type": "code",
   "execution_count": 11,
   "id": "bd778336",
   "metadata": {},
   "outputs": [
    {
     "name": "stdout",
     "output_type": "stream",
     "text": [
      "Input an integer: 3\n",
      "In function print_asterics(), with n = 3\n",
      "In function print_asterics(), with n = 2\n",
      "In function print_asterics(), with n = 1\n",
      "Hit base case and popping back up.\n",
      "1. x\n",
      "Hit base case and popping back up.\n",
      "2. xx\n",
      "Hit base case and popping back up.\n",
      "3. xxx\n",
      "Thank you. Goodbye.\n"
     ]
    }
   ],
   "source": [
    "def main():\n",
    "    \"\"\"\n",
    "    My main function.\n",
    "    \n",
    "    \"\"\"\n",
    "    myinteger = 0\n",
    "    try:\n",
    "        myinteger = int(input('Input an integer: '))\n",
    "    except ValueError:\n",
    "        print(\"Entered value must be an integer. Please try again.\")\n",
    "      \n",
    "    # call the recursive function\n",
    "    print_asterics(myinteger)\n",
    "    print(\"Thank you. Goodbye.\")\n",
    "    \n",
    "    \n",
    "def print_asterics(n):\n",
    "    \"\"\"\n",
    "    Recursive function to print n asterisks.\n",
    "    \n",
    "    args:\n",
    "    n {int} \n",
    "    \"\"\"\n",
    "    print(f\"In function print_asterics(), with n = {n}\")\n",
    "    if (n > 1):\n",
    "        print_asterics(n-1)\n",
    "    print(f\"Hit base case and popping back up.\")\n",
    "    print(f\"{n}.\", \"x\" * n)\n",
    "    \n",
    "    \n",
    "if __name__ == '__main__':\n",
    "    main()"
   ]
  },
  {
   "cell_type": "markdown",
   "id": "3a88f60c",
   "metadata": {},
   "source": [
    "## 3.2 Mathematical Problem Solving Using Recursion (Follow):  \n",
    "\n",
    "**Learning Objectives:**\n",
    "\n",
    "    1. Understand how mathematical operations can be accomplished using recursion\n",
    "    2. Understand base case and recursive case in recursion"
   ]
  },
  {
   "cell_type": "code",
   "execution_count": 8,
   "id": "4c11de03",
   "metadata": {
    "scrolled": true
   },
   "outputs": [
    {
     "name": "stdout",
     "output_type": "stream",
     "text": [
      "In function main().\n",
      "Enter a nonnegative integer: 5\n",
      "Calling factorial with 5.\n",
      "In function factorial():\n",
      "Calling factorial with 4\n",
      "In function factorial():\n",
      "Calling factorial with 3\n",
      "In function factorial():\n",
      "Calling factorial with 2\n",
      "In function factorial():\n",
      "Calling factorial with 1\n",
      "In function factorial():\n",
      "Calling factorial with 0\n",
      "In function factorial():\n",
      "Returning base case, n=0.\n",
      "The factorial of 5 is 120\n"
     ]
    }
   ],
   "source": [
    "# add comments\n",
    "\n",
    "def main():  \n",
    "    print(\"In function main().\")\n",
    "    number = int(input('Enter a nonnegative integer: '))\n",
    "    print(f\"Calling factorial with {number}.\")\n",
    "    fact = factorial(number)\n",
    "    print('The factorial of', number, 'is', fact)\n",
    "\n",
    "    \n",
    "def factorial(num):\n",
    "    print(\"In function factorial():\")\n",
    "    if num == 0:\n",
    "        print(\"Returning base case, n=0.\")\n",
    "        return 1\n",
    "    else:\n",
    "        print(f\"Calling factorial with {num-1}\")\n",
    "        return num * factorial(num - 1)\n",
    "\n",
    "\n",
    "main()\n"
   ]
  },
  {
   "cell_type": "code",
   "execution_count": 18,
   "id": "26dd64dc",
   "metadata": {},
   "outputs": [
    {
     "name": "stdout",
     "output_type": "stream",
     "text": [
      "Enter Number: 3\n",
      "In function fibonacci with n==3.\n",
      "Calling fibonacci with 2 and 1.\n",
      "In function fibonacci with n==2.\n",
      "Calling fibonacci with 1 and 0.\n",
      "In function fibonacci with n==1.\n",
      "Hit base case with n==1.\n",
      "In function fibonacci with n==0.\n",
      "Hit base case with n==0.\n",
      "In function fibonacci with n==1.\n",
      "Hit base case with n==1.\n",
      "2\n",
      "Thank you. Goodbye.\n"
     ]
    }
   ],
   "source": [
    "\"\"\"\n",
    "Add comments for you own reference\n",
    "\"\"\"\n",
    "\n",
    "def main():\n",
    "    num = int(input(\"Enter Number: \"))\n",
    "    print(fibonacci(num))\n",
    "    print(\"Thank you. Goodbye.\")\n",
    "    \n",
    "def fibonacci(n):\n",
    "    print(f\"In function fibonacci with n=={n}.\")\n",
    "    if n == 0 or n == 1:\n",
    "        print(f\"Hit base case with n=={n}.\")\n",
    "        return n\n",
    "    else:\n",
    "        print(f\"Calling fibonacci with {n-1} and {n-2}.\")\n",
    "        return (fibonacci(n-1) + fibonacci(n-2))\n",
    "\n",
    "main()"
   ]
  },
  {
   "cell_type": "markdown",
   "id": "923eabe7",
   "metadata": {},
   "source": [
    "### As the above code executes, think about the following questions:\n",
    "\n",
    "1. Trace the execution of the code by placing print statements throughout.\n",
    "2. As the above programs execute, what are the values of the variables?\n",
    "3. Why would python change a multiplication problem into a recursive addition problem?"
   ]
  },
  {
   "cell_type": "markdown",
   "id": "2ac98e0f",
   "metadata": {},
   "source": [
    "## 3.2 Mathematical Problem Solving Using Recursion (Group): \n",
    "\n",
    "Write a program that will do the following:\n",
    "\n",
    "1. Get integer input from the user \n",
    "2. Store all odd numbers less than the given number in a list and display list\n",
    "3. Compute sum of all even numbers less than the given number\n",
    "3. Use recursion\n",
    "4. Input from user can be odd or even"
   ]
  },
  {
   "cell_type": "code",
   "execution_count": 49,
   "id": "02343d66",
   "metadata": {},
   "outputs": [
    {
     "name": "stdout",
     "output_type": "stream",
     "text": [
      "Please enter an integer: 5\n",
      "You entered 5\n",
      "The odd numbers less than 5 are [1, 3].\n",
      "The sum of even numbers less than 5 is 6.\n"
     ]
    }
   ],
   "source": [
    "def main():\n",
    "    \"\"\"\n",
    "    My main function.\n",
    "    \"\"\"\n",
    "    mynumber=0\n",
    "    myodds=[]\n",
    "    evensum=0\n",
    "    try:\n",
    "        mynumber = int(input(\"Please enter an integer: \"))\n",
    "        print(f\"You entered {mynumber}\")\n",
    "    except ValueError:\n",
    "        print(\"Please enter an integer.\")\n",
    "        \n",
    "    # Note that I make my first call with mynumber -1 since\n",
    "    # the ask is for strictly less than the number input\n",
    "    myodds, evensum = odd_even(mynumber-1)\n",
    "    print(f\"The odd numbers less than {mynumber} are {myodds}.\")\n",
    "    print(f\"The sum of even numbers less than {mynumber} is {evensum}.\")\n",
    "    \n",
    "def odd_even(num):\n",
    "    odd_list = []\n",
    "    even_sum = 0\n",
    "    # base case\n",
    "    if num == 0:\n",
    "        return odd_list, even_sum\n",
    "    \n",
    "    # if not base case, make a recursive call\n",
    "    odd_list, even_sum = odd_even(num-1)\n",
    "    # note that I return a list and a sum, so I capture them \n",
    "    \n",
    "    # as I pop back up and do my stuff here...\n",
    "    if num % 2 == 0:\n",
    "        # even number so sum it\n",
    "        even_sum += num \n",
    "    else:\n",
    "        odd_list.append(num)\n",
    "    return odd_list, even_sum\n",
    "\n",
    "\n",
    "if __name__ == '__main__':\n",
    "    main()"
   ]
  },
  {
   "cell_type": "markdown",
   "id": "5456bac5",
   "metadata": {},
   "source": [
    "## 3.3 Recursion versus Iteration (Follow):  \n",
    "\n",
    "**Learning Objectives:**\n",
    "\n",
    "    1. Understand the benefits of doing recursion versus iteration\n",
    "    2. Understand why iteration is faster than recursion"
   ]
  },
  {
   "cell_type": "code",
   "execution_count": null,
   "id": "2e0ba5fa",
   "metadata": {},
   "outputs": [],
   "source": [
    "%%time\n",
    "# add comments\n",
    "\n",
    "def main(factorial_number): \n",
    "    number = compute_factorial(factorial_number)\n",
    "    print('The factorial of', factorial_number, 'is', number)\n",
    "    \n",
    "    \n",
    "def compute_factorial(number):\n",
    "    \n",
    "    factorial = 1\n",
    "    \n",
    "    for value in range(number, 1, -1):\n",
    "        factorial *= value\n",
    "    \n",
    "    return factorial\n",
    "\n",
    "factorial_number = 1000\n",
    "main(factorial_number)"
   ]
  },
  {
   "cell_type": "code",
   "execution_count": null,
   "id": "1aa439d6",
   "metadata": {},
   "outputs": [],
   "source": [
    "%%time\n",
    "# add comments\n",
    "\n",
    "def main(number):\n",
    "    fact = factorial(number)\n",
    "    print('The factorial of', number, 'is', fact)\n",
    "\n",
    "    \n",
    "def factorial(num):\n",
    "    if num == 0:\n",
    "        return 1\n",
    "    else:\n",
    "        return num * factorial(num - 1)\n",
    "\n",
    "\n",
    "number = 1000\n",
    "main(number)"
   ]
  },
  {
   "cell_type": "markdown",
   "id": "7f04b8ca",
   "metadata": {},
   "source": [
    "### As the above code executes, think about the following questions:\n",
    "\n",
    "1. Explain how iteration is faster than recursion.\n",
    "2. Give the programs above a few runs with different values and see how they perform.  Do not forget to clear the kernel between runs."
   ]
  },
  {
   "cell_type": "markdown",
   "id": "2effa503",
   "metadata": {},
   "source": [
    "## 3.3 Recursion versus Iteration (Group): \n",
    "\n",
    "Write a program that will do the following:\n",
    "\n",
    "1. Use the fibonacci series program from above\n",
    "2. Write an iterative function for the same.\n",
    "3. Time both programs using the above code."
   ]
  },
  {
   "cell_type": "code",
   "execution_count": 1,
   "id": "f4932552",
   "metadata": {},
   "outputs": [],
   "source": [
    "def main():\n",
    "    \"\"\"\n",
    "    My main function\n",
    "    \"\"\"\n",
    "    n = 10\n",
    "    fib_list_iter = fibonacci_iterative(n)\n",
    "    print(f\"The first {n} numbers in the Fibonacci series are: {fib_list_iter}\")\n",
    "    \n",
    "    fib_list_recurse = fibonacci_recursive(n)\n",
    "    print(f\"The first {n} number in the Fibonacci series are: {fib_list_recurse}\")\n",
    "          "
   ]
  },
  {
   "cell_type": "code",
   "execution_count": null,
   "id": "6efba45e",
   "metadata": {},
   "outputs": [],
   "source": [
    "# fibonacci iterative function using a list\n",
    "def fibonacci_iterative(n):\n",
    "    fib_list = []\n",
    "    if n == 0:\n",
    "        return fib_list\n",
    "    elif n == 1:\n",
    "        return [0]\n",
    "    else:\n",
    "        fib_list = [0, 1]\n",
    "        for i in range(2, n):\n",
    "            fib_list.append(fib_list[i-1] + fib_list[i-2])\n",
    "        return fib_list\n"
   ]
  },
  {
   "cell_type": "code",
   "execution_count": 2,
   "id": "798bb2af",
   "metadata": {},
   "outputs": [],
   "source": [
    "# fibonacci recursive function\n",
    "def fibonacci_recursive(n):\n",
    "    # print(f\"In function fibonacci with n=={n}.\")\n",
    "    if n == 0 or n == 1:\n",
    "        #print(f\"Hit base case with n=={n}.\")\n",
    "        return n\n",
    "    else:\n",
    "        # print(f\"Calling fibonacci with {n-1} and {n-2}.\")\n",
    "        return (fibonacci(n-1) + fibonacci(n-2))\n"
   ]
  },
  {
   "cell_type": "code",
   "execution_count": 3,
   "id": "882c9a5f",
   "metadata": {},
   "outputs": [],
   "source": []
  },
  {
   "cell_type": "code",
   "execution_count": 4,
   "id": "a82112e3",
   "metadata": {},
   "outputs": [
    {
     "name": "stdout",
     "output_type": "stream",
     "text": [
      "The first 10 numbers in the Fibonacci series are: [0, 1, 1, 2, 3, 5, 8, 13, 21, 34]\n"
     ]
    },
    {
     "ename": "NameError",
     "evalue": "name 'fibonacci' is not defined",
     "output_type": "error",
     "traceback": [
      "\u001b[1;31m---------------------------------------------------------------------------\u001b[0m",
      "\u001b[1;31mNameError\u001b[0m                                 Traceback (most recent call last)",
      "Cell \u001b[1;32mIn[4], line 2\u001b[0m\n\u001b[0;32m      1\u001b[0m \u001b[38;5;28;01mif\u001b[39;00m \u001b[38;5;18m__name__\u001b[39m \u001b[38;5;241m==\u001b[39m \u001b[38;5;124m'\u001b[39m\u001b[38;5;124m__main__\u001b[39m\u001b[38;5;124m'\u001b[39m:\n\u001b[1;32m----> 2\u001b[0m     main()\n",
      "Cell \u001b[1;32mIn[1], line 9\u001b[0m, in \u001b[0;36mmain\u001b[1;34m()\u001b[0m\n\u001b[0;32m      6\u001b[0m fib_list_iter \u001b[38;5;241m=\u001b[39m fibonacci_iterative(n)\n\u001b[0;32m      7\u001b[0m \u001b[38;5;28mprint\u001b[39m(\u001b[38;5;124mf\u001b[39m\u001b[38;5;124m\"\u001b[39m\u001b[38;5;124mThe first \u001b[39m\u001b[38;5;132;01m{\u001b[39;00mn\u001b[38;5;132;01m}\u001b[39;00m\u001b[38;5;124m numbers in the Fibonacci series are: \u001b[39m\u001b[38;5;132;01m{\u001b[39;00mfib_list_iter\u001b[38;5;132;01m}\u001b[39;00m\u001b[38;5;124m\"\u001b[39m)\n\u001b[1;32m----> 9\u001b[0m fib_list_recurse \u001b[38;5;241m=\u001b[39m fibonacci_recursive(n)\n\u001b[0;32m     10\u001b[0m \u001b[38;5;28mprint\u001b[39m(\u001b[38;5;124mf\u001b[39m\u001b[38;5;124m\"\u001b[39m\u001b[38;5;124mThe first \u001b[39m\u001b[38;5;132;01m{\u001b[39;00mn\u001b[38;5;132;01m}\u001b[39;00m\u001b[38;5;124m number in the Fibonacci series are: \u001b[39m\u001b[38;5;132;01m{\u001b[39;00mfib_list_recurse\u001b[38;5;132;01m}\u001b[39;00m\u001b[38;5;124m\"\u001b[39m)\n",
      "Cell \u001b[1;32mIn[2], line 10\u001b[0m, in \u001b[0;36mfibonacci_recursive\u001b[1;34m(n)\u001b[0m\n\u001b[0;32m      7\u001b[0m     \u001b[38;5;28;01mreturn\u001b[39;00m n\n\u001b[0;32m      8\u001b[0m \u001b[38;5;28;01melse\u001b[39;00m:\n\u001b[0;32m      9\u001b[0m     \u001b[38;5;66;03m# print(f\"Calling fibonacci with {n-1} and {n-2}.\")\u001b[39;00m\n\u001b[1;32m---> 10\u001b[0m     \u001b[38;5;28;01mreturn\u001b[39;00m (fibonacci(n\u001b[38;5;241m-\u001b[39m\u001b[38;5;241m1\u001b[39m) \u001b[38;5;241m+\u001b[39m fibonacci(n\u001b[38;5;241m-\u001b[39m\u001b[38;5;241m2\u001b[39m))\n",
      "\u001b[1;31mNameError\u001b[0m: name 'fibonacci' is not defined"
     ]
    }
   ],
   "source": [
    "if __name__ == '__main__':\n",
    "    main()\n"
   ]
  },
  {
   "cell_type": "code",
   "execution_count": null,
   "id": "7d032ee6",
   "metadata": {},
   "outputs": [],
   "source": [
    "\"\"\"\n",
    "def fibonacci_recursive(n):\n",
    "    if n <= 0:\n",
    "        return []\n",
    "    elif n == 1:\n",
    "        return [0]\n",
    "    elif n == 2:\n",
    "        return [0, 1]\n",
    "    else:\n",
    "        fib_list = fibonacci_recursive(n - 1)\n",
    "        fib_list.append(fib_list[-1] + fib_list[-2])\n",
    "        return fib_list\n",
    "\"\"\""
   ]
  },
  {
   "cell_type": "markdown",
   "id": "eda44ab5",
   "metadata": {},
   "source": [
    "## 3.4 Dynamic Programming and Big O Notation (Follow):  \n",
    "\n",
    "**Learning Objectives:**\n",
    "\n",
    "    1. Understand how to use dynamic programming\n",
    "    2. Understand why dynamic programming is considered faster than basic recursion\n",
    "    3. Understand when to use dynamic programming\n",
    "    4. Understand basic big O notation\n",
    "    \n",
    " https://youtu.be/v4cd1O4zkGw\n",
    " \n",
    " https://www.codestepbystep.com/problem/view/java/bigoh/bigoh1\n",
    " \n",
    " https://www.codestepbystep.com/problem/view/python/bigoh/bigoh_examples"
   ]
  },
  {
   "cell_type": "code",
   "execution_count": null,
   "id": "6ee92729",
   "metadata": {},
   "outputs": [],
   "source": [
    "%%time\n",
    "\"\"\"\n",
    "The %%time statement is a Jupyter Notebook magic command that \n",
    "measures the execution time of a single statement in a cell. \n",
    "When you run a cell with %%time at the top, Jupyter Notebook \n",
    "will execute the cell and print the elapsed time for the statement to complete.\n",
    "\"\"\"\n",
    "\n",
    "def DPfact(N):\n",
    "    arr = {}\n",
    "    arr[0] = 1\n",
    "    arr[1] = 1\n",
    "    \n",
    "    if N in arr:\n",
    "        return arr[N]\n",
    "    else:\n",
    "        for i in range(2, N+1):\n",
    "            arr[i] = i * arr[i-1]\n",
    "    \n",
    "    return arr[N]\n",
    "      \n",
    "num = 10\n",
    "\n",
    "print(\"factorial of \",num,\" (dynamic): \",end=\"\")\n",
    "print(DPfact(num))"
   ]
  },
  {
   "cell_type": "markdown",
   "id": "517f083a",
   "metadata": {},
   "source": [
    "### As the above code executes, think about the following questions:\n",
    "\n",
    "1. Trace the value of N as the program executes.\n",
    "2. Trace the value of arr as the program executes."
   ]
  },
  {
   "cell_type": "markdown",
   "id": "135f6878",
   "metadata": {},
   "source": [
    "## 3.4 Dynamic Programming and Big O Notation (Group):  \n",
    "\n",
    "**Write a program that will do the following:**\n",
    "\n",
    "    1. Write a program that will compute the first N Fibonacci numbers.\n",
    "    2. Write the program using dynamic programming.\n",
    "    3. Refer to excercise 3.2 for the formula if needed."
   ]
  },
  {
   "cell_type": "code",
   "execution_count": null,
   "id": "363e5a89",
   "metadata": {},
   "outputs": [],
   "source": [
    "def fibonacci_dynamic(n):\n",
    "    if n <= 0:\n",
    "        return []\n",
    "    elif n == 1:\n",
    "        return [0]\n",
    "    else:\n",
    "        fib_list = [0, 1]\n",
    "        for i in range(2, n):\n",
    "            fib_list.append(fib_list[i-1] + fib_list[i-2])\n",
    "        return fib_list\n",
    "\n",
    "# Example usage\n",
    "n = int(input(\"Enter a number: \"))\n",
    "fib_list = fibonacci_dynamic(n)\n",
    "print(f\"The first {n} numbers in the Fibonacci series are: {fib_list}\")\n",
    "\n"
   ]
  },
  {
   "cell_type": "markdown",
   "id": "387d5681",
   "metadata": {},
   "source": [
    "## 3.5 Try and Except Blocks (Follow):  \n",
    "\n",
    "**Learning Objectives:**\n",
    "\n",
    "    1. Understand try and except blocks\n",
    "    2. Understand how a try and except block executes\n",
    "    3. Understand the flow of a try except block"
   ]
  },
  {
   "cell_type": "code",
   "execution_count": 20,
   "id": "c2cc2ae3",
   "metadata": {},
   "outputs": [
    {
     "name": "stdout",
     "output_type": "stream",
     "text": [
      "Enter numerator, a:4\n",
      "Enter denominator, b:-2\n",
      "Result of a/b=-2.000\n",
      "This will execute if the try executes.\n",
      "This will always execute.\n"
     ]
    }
   ],
   "source": [
    "# add comments to the code\n",
    "try:\n",
    "    a = int(input(\"Enter numerator, a:\"))\n",
    "    b = int(input(\"Enter denominator, b:\"))\n",
    "    c = a/b\n",
    "    print(f\"Result of a/b={c:.3f}\")\n",
    "    \n",
    "except ValueError:\n",
    "    print(\"Entered value must be a number. Please try again.\")\n",
    " \n",
    "except ZeroDivisionError:\n",
    "    print(\"Unable to divide by zero. Please try again.\")\n",
    "    \n",
    "else:\n",
    "    print(\"This will execute if the try executes.\")\n",
    "    \n",
    "finally:\n",
    "    print(\"This will always execute.\")"
   ]
  },
  {
   "cell_type": "markdown",
   "id": "b90b7da6",
   "metadata": {},
   "source": [
    "### As the above code executes, think about the following questions:\n",
    "\n",
    "1. Which part executes first, second, third?\n",
    "2. Under what circumstances do each of the parts execute?\n",
    "3. Where would this sort of setup be useful when programming?"
   ]
  },
  {
   "cell_type": "markdown",
   "id": "46a2393b",
   "metadata": {},
   "source": [
    "## 3.5 Try and Except Blocks (Group):  \n",
    "\n",
    "Write a program that will do the following:\n",
    "\n",
    "1. Take values of n and m from user (any input)\n",
    "2. Compute the division of nth element by mth element of given list (this may not be possible, but you need to handle that)\n",
    "3. The Program should be able to deal with all possible errors\n",
    "4. Regardless of errors, the program should print values of n and m\n",
    "5. The List to use is given below\n",
    "\n",
    "given_list = [3, 1.2 ,0,'hello',1000,(1,2),50]"
   ]
  },
  {
   "cell_type": "code",
   "execution_count": 21,
   "id": "59478f5c",
   "metadata": {},
   "outputs": [
    {
     "name": "stdout",
     "output_type": "stream",
     "text": [
      "Please enter your value for n: 3\n",
      "Please enter your value for m: 2\n",
      "Yeah, no. Try again.\n",
      "The value of n is 3 and the value of m is 2.\n"
     ]
    }
   ],
   "source": [
    "\n",
    "given_list = [3, 1.2 ,0,'hello',1000,(1,2),50]\n",
    "try:\n",
    "    myn = int(input(\"Please enter your value for n: \"))\n",
    "    mym = int(input(\"Please enter your value for m: \"))\n",
    "    \n",
    "    myanswer = given_list[myn] / given_list[mym]\n",
    "    print(f\"Result of nth element divide by mth element is {myanswer:.3f}\")\n",
    "    \n",
    "except ValueError:\n",
    "    print(\"Entered values should be numbers. Please try again.\")\n",
    "    \n",
    "except TypeError:\n",
    "    print(\"Yeah, no. Try again.\")\n",
    "    \n",
    "except ZeroDivisionError:\n",
    "    print(\"Oops. Unable to divide by zero. Please try again.\")\n",
    "    \n",
    "except NameError:\n",
    "    print(\"Oops. Something went wrong. Try again.\")\n",
    "    \n",
    "finally:\n",
    "    print(f\"The value of n is {myn} and the value of m is {mym}.\")"
   ]
  },
  {
   "cell_type": "code",
   "execution_count": null,
   "id": "6a33ffdc",
   "metadata": {},
   "outputs": [],
   "source": []
  }
 ],
 "metadata": {
  "kernelspec": {
   "display_name": "Python 3 (ipykernel)",
   "language": "python",
   "name": "python3"
  },
  "language_info": {
   "codemirror_mode": {
    "name": "ipython",
    "version": 3
   },
   "file_extension": ".py",
   "mimetype": "text/x-python",
   "name": "python",
   "nbconvert_exporter": "python",
   "pygments_lexer": "ipython3",
   "version": "3.11.5"
  }
 },
 "nbformat": 4,
 "nbformat_minor": 5
}
