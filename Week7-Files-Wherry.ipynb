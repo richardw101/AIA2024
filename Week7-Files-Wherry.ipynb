{
 "cells": [
  {
   "cell_type": "markdown",
   "metadata": {},
   "source": [
    "# Workshop 7 - Wherry\n",
    "\n",
    "This notebook will cover the following topics:\n",
    "\n",
    "1. Opening Files for use\n",
    "    - Reading\n",
    "    - Writing\n",
    "2. Cursors\n",
    "3. CSV Files\n",
    "4. Exception Handling\n",
    "5. Reading in files as classes\n",
    "6. Using JSON files"
   ]
  },
  {
   "cell_type": "markdown",
   "metadata": {},
   "source": [
    "## 7.1 OPENING FILES (Follow)\n",
    "\n",
    "**Learning Objectives:**\n",
    "\n",
    "1. Understand how to use files.\n",
    "2. Understand reading and writing in files.\n",
    "3. Understand Context Managers.\n",
    "4. Learn to manipulate file system."
   ]
  },
  {
   "cell_type": "code",
   "execution_count": 9,
   "metadata": {},
   "outputs": [
    {
     "name": "stdout",
     "output_type": "stream",
     "text": [
      "Hello\n",
      "This is a Test File\n",
      "Welcome to AI Academy\n",
      "\n",
      "['Hello\\n', 'This is a Test File\\n', 'Welcome to AI Academy']\n",
      "Printing the second line: This is a Test File\n",
      "\n",
      "['Hello\\n', 'This is a Test File\\n', 'Welcome to AI Academy']\n",
      "Hello\n",
      "This is a Test File\n",
      "Welcome to AI Academy\n"
     ]
    }
   ],
   "source": [
    "\"\"\"\n",
    "Add comments for you own reference\n",
    "\"\"\"\n",
    "# file read/write flags\n",
    "# 'r' read\n",
    "# 'r+' read/write\n",
    "# 'w' write\n",
    "# 'w+' write/read\n",
    "# 'a' append\n",
    "# 'a+' append/read\n",
    "\n",
    "def main():\n",
    "    file = open('test.txt', 'r')\n",
    "    print(file.read())\n",
    "    print()\n",
    "    file.close()\n",
    "    \n",
    "    file = open('test.txt', 'r')\n",
    "    lines = file.readlines() # reads it in as a list of strings where each string in the list is the line\n",
    "    print(lines)\n",
    "    print(f\"Printing the second line: {lines[1]}\")\n",
    "    print(lines)\n",
    "    file.close()\n",
    "    \n",
    "    # the recommended way to open up a file!!!!\n",
    "    with open('test.txt', 'r') as file:\n",
    "        print(file.read())\n",
    "    \n",
    "main()"
   ]
  },
  {
   "cell_type": "code",
   "execution_count": 3,
   "metadata": {},
   "outputs": [
    {
     "name": "stdout",
     "output_type": "stream",
     "text": [
      "This is a new file\n",
      "Lets change the text\n",
      "\n"
     ]
    }
   ],
   "source": [
    "\"\"\"\n",
    "Add comments for you own reference\n",
    "\"\"\"\n",
    "\n",
    "def main():\n",
    "    # test2.txt does not currently exist\n",
    "    with open('test2.txt', 'w+') as file:\n",
    "        file.write(\"This is a new file\\n\")\n",
    "        file.write(\"Lets change the text\\n\")\n",
    "        \n",
    "    file = open('test2.txt', 'r')\n",
    "    print(file.read())\n",
    "    file.close()\n",
    "    \n",
    "main()"
   ]
  },
  {
   "cell_type": "code",
   "execution_count": 4,
   "metadata": {},
   "outputs": [
    {
     "name": "stdout",
     "output_type": "stream",
     "text": [
      "This is a new file\n",
      "Lets change the text\n",
      "Lets Add to the file\n",
      "See what happens when you run the code again and again\n",
      "\n"
     ]
    }
   ],
   "source": [
    "\"\"\"\n",
    "Add comments for you own reference\n",
    "\"\"\"\n",
    "\n",
    "def main():\n",
    "    with open('test2.txt', 'a+') as file:\n",
    "        file.write(\"Lets Add to the file\\n\")\n",
    "        file.write(\"See what happens when you run the code again and again\\n\")\n",
    "    \n",
    "    file = open('test2.txt', 'r')\n",
    "    print(file.read())\n",
    "    file.close()\n",
    "    \n",
    "main()"
   ]
  },
  {
   "cell_type": "markdown",
   "metadata": {},
   "source": [
    "**Evaluation:**\n",
    "\n",
    "After running this program, think about and answer these questions:\n",
    "\n",
    "1. What would happen if files are not closed?\n",
    "2. What is the major pro and con of writing and appending?\n",
    "3. Try to read a file with different extension."
   ]
  },
  {
   "cell_type": "markdown",
   "metadata": {},
   "source": [
    "## 7.1 OPENING FILES (Group)\n",
    "\n",
    "Write a program that will do the following:\n",
    "\n",
    "1. Create a new file named 'Workshop.txt'\n",
    "2. Write a random number in the file\n",
    "3. Retrive the number by reading the file\n",
    "4. Take the number from the file and multiply it by another random number.\n",
    "5. Append the file with the multiplication of the two numbers.\n",
    "6. Repeat this process several times. "
   ]
  },
  {
   "cell_type": "code",
   "execution_count": 16,
   "metadata": {},
   "outputs": [
    {
     "name": "stdout",
     "output_type": "stream",
     "text": [
      "75\n",
      "43\n",
      "3225\n",
      "The ending file contents:\n",
      "75\n",
      "3225\n"
     ]
    }
   ],
   "source": [
    "import random\n",
    "from pathlib import Path\n",
    "#Path(__file__).parent / 'file_in_same_dir'\n",
    "\n",
    "def main():\n",
    "    myint = random.randint(1, 100)\n",
    "    print(myint)\n",
    "    with open('Workshop.txt', 'w+') as file:\n",
    "        file.write(str(myint) + \"\\n\")\n",
    "        \n",
    "    with open('Workshop.txt', 'r') as file:\n",
    "        filenum = int(file.readline())\n",
    "        \n",
    "    myotherint = random.randint(1, 100)\n",
    "    print(myotherint)\n",
    "    thenum = filenum * myotherint\n",
    "    print(thenum)\n",
    "        \n",
    "    with open('Workshop.txt', 'a') as file:\n",
    "        file.write(str(thenum))\n",
    "    \n",
    "    # lets print the file once finished\n",
    "    with open('Workshop.txt', 'r') as file:\n",
    "        print(\"The ending file contents:\")\n",
    "        print(file.read())\n",
    "    \n",
    "main()"
   ]
  },
  {
   "cell_type": "markdown",
   "metadata": {},
   "source": [
    "## 7.2 CURSORS (Follow)\n",
    "\n",
    "**Learning Objectives:**\n",
    "\n",
    "1. Understand how cursors work.\n",
    "2. Understand reading and writing with help of cursor.\n",
    "3. Understand seek and tell functions.\n",
    "4. Learn to manipulate cursor in a file."
   ]
  },
  {
   "cell_type": "code",
   "execution_count": 23,
   "metadata": {},
   "outputs": [
    {
     "name": "stdout",
     "output_type": "stream",
     "text": [
      "Hello\n",
      "This is a Test File\n",
      "Welcome to AI Academy\n",
      "\n",
      "Lets read again:\n",
      "\n",
      "-----------------------------\n",
      "This is a new file\n",
      "\n",
      "Lets change the text\n",
      "\n",
      "Continuing to READ:\n",
      "\n",
      "Let\n",
      "s Add to the file\n",
      "See what happens when you run the code again and again\n",
      "\n"
     ]
    }
   ],
   "source": [
    "\"\"\"\n",
    "Add comments for you own reference\n",
    "\"\"\"\n",
    "\n",
    "def main():  \n",
    "    with open('test.txt', 'r') as file:\n",
    "        print(file.read())\n",
    "        print(\"\\nLets read again:\")\n",
    "        print(file.read())\n",
    "        file.close()\n",
    "    \n",
    "    print('-----------------------------')\n",
    "    with open('test2.txt', 'r') as file:\n",
    "        print(file.readline())\n",
    "        print(file.readline())\n",
    "        print(\"Continuing to READ:\\n\")\n",
    "        print(file.read(3))\n",
    "        print(file.read())\n",
    "main()"
   ]
  },
  {
   "cell_type": "code",
   "execution_count": 24,
   "metadata": {},
   "outputs": [
    {
     "name": "stdout",
     "output_type": "stream",
     "text": [
      "Cursor is at -  0\n",
      "Hello\n",
      "\n",
      "Cursor is at -  6\n",
      "Cursor is at -  12\n",
      "s a Test File\n",
      "\n",
      "Cursor is at -  26\n"
     ]
    }
   ],
   "source": [
    "\"\"\"\n",
    "Add comments for you own reference\n",
    "Hello\n",
    "This is a Test File\n",
    "Welcome to AI Academy\n",
    "\"\"\"\n",
    "\n",
    "def main():  \n",
    "    with open('test.txt', 'r') as file:\n",
    "        print(\"Cursor is at - \",file.tell())\n",
    "        print(file.readline())\n",
    "        print(\"Cursor is at - \",file.tell())\n",
    "        file.seek(12)\n",
    "        print(\"Cursor is at - \",file.tell())\n",
    "        print(file.readline())\n",
    "        print(\"Cursor is at - \",file.tell())\n",
    "main()"
   ]
  },
  {
   "cell_type": "markdown",
   "metadata": {},
   "source": [
    "**Evaluation:**\n",
    "\n",
    "After running this program, think about and answer these questions:\n",
    "\n",
    "1. What does the read() function do?\n",
    "2. What does the tell() function do?\n",
    "3. What does the seek() function do?"
   ]
  },
  {
   "cell_type": "markdown",
   "metadata": {},
   "source": [
    "## 7.2 CURSORS (Group)\n",
    "\n",
    "Write a program that will do the following:\n",
    "\n",
    "1. Use the file 'Workshop.txt'\n",
    "2. Read the file first to get the total number of characters in file.\n",
    "3. Use seek and tell to create a new file 'Workshop_rev.txt' that is a copy of the file in reverse order.\n",
    "4. Read and print 'Workshop_rev.txt'"
   ]
  },
  {
   "cell_type": "code",
   "execution_count": 22,
   "metadata": {},
   "outputs": [
    {
     "name": "stdout",
     "output_type": "stream",
     "text": [
      "['elppa', 'ananab', 'yrrehc']\n"
     ]
    }
   ],
   "source": [
    "'''\n",
    "content[::-1] starts from the end and steps backwards, \n",
    "reversing the string. This is the method we used to reverse the \n",
    "strings in your list in the previous example.\n",
    "'''\n",
    "\n",
    "content = [\"apple\", \"banana\", \"cherry\"]\n",
    "reversed_content = [s[::-1] for s in content]\n",
    "print(reversed_content)\n"
   ]
  },
  {
   "cell_type": "code",
   "execution_count": 27,
   "metadata": {},
   "outputs": [
    {
     "name": "stdout",
     "output_type": "stream",
     "text": [
      "The file contents are/is:\n",
      "75\n",
      "3225\n",
      "Total number of characters in file: 7\n",
      "75\n",
      "3225\n",
      "5223\n",
      "57\n",
      "5223\n",
      "57\n"
     ]
    }
   ],
   "source": [
    "import random\n",
    "\n",
    "def reverse_file():\n",
    "    content = []  \n",
    "    \n",
    "    # Open the file in read mode\n",
    "    with open('Workshop.txt', 'r') as file:\n",
    "        content = file.read()  # content is a list of strings!!!!\n",
    "        print(f\"The file contents are/is:\\n{content}\")\n",
    "        print(f\"Total number of characters in file: {len(content)}\") # includes new line char\n",
    "        i = len(content)\n",
    "        reversecontent = []\n",
    "        abyte=1\n",
    "        while i != 0:\n",
    "            file.seek(i-1, 1)\n",
    "            file.read(abyte)\n",
    "            reversecontent.append()\n",
    "            i = i - 1\n",
    "\n",
    "    # Open the file in write mode\n",
    "    with open('Workshop_rev.txt', 'w') as file:\n",
    "        # Write the reversed content to the new file\n",
    "        print(content)\n",
    "        print(content[::-1])\n",
    "        file.write(content[::-1])  # reverse everything\n",
    "\n",
    "    # Open the new file in read mode and print its content\n",
    "    with open('Workshop_rev.txt', 'r') as file:\n",
    "        print(file.read())\n",
    "\n",
    "# Call the function\n",
    "reverse_file()\n"
   ]
  },
  {
   "cell_type": "code",
   "execution_count": null,
   "metadata": {},
   "outputs": [],
   "source": []
  },
  {
   "cell_type": "markdown",
   "metadata": {},
   "source": [
    "## 7.3 CSV FILES (Follow)\n",
    "\n",
    "**Learning Objectives:**\n",
    "\n",
    "1. Understand how to read CSV files.\n",
    "2. Understand how to deal with CSV files.\n",
    "3. Understnad how to deal with non-standard encoded files.\n",
    "4. Learn to implement writer and reader from csv module."
   ]
  },
  {
   "cell_type": "code",
   "execution_count": 28,
   "metadata": {},
   "outputs": [
    {
     "name": "stdout",
     "output_type": "stream",
     "text": [
      "ID  Name   Score\n",
      "1   Tom    98\n",
      "2   Matt   75\n",
      "3   Bob    62\n",
      "4   Kev    45\n",
      "5   Pam    23\n",
      "6   Sam    100\n"
     ]
    }
   ],
   "source": [
    "\"\"\"\n",
    "Add comments for you own reference\n",
    "\"\"\"\n",
    "\n",
    "import csv\n",
    "\n",
    "with open('grades.csv', mode = 'w', newline='') as grades:\n",
    "        writer = csv.writer(grades)\n",
    "        writer.writerow([1, 'Tom', 98])\n",
    "        writer.writerow([2, 'Matt', 75])\n",
    "        writer.writerow([3, 'Bob', 62])\n",
    "        writer.writerow([4, 'Kev', 45])\n",
    "        writer.writerow([5, 'Pam', 23])\n",
    "        writer.writerow([6, 'Sam', 100])\n",
    "        \n",
    "with open('grades.csv', 'r', newline='') as grades:\n",
    "    print(f'{\"ID\":<4}{\"Name\":<7}{\"Score\"}')\n",
    "    reader = csv.reader(grades)\n",
    "    for record in reader:\n",
    "        student_id, name, score = record\n",
    "        print(f'{student_id:<4}{name:<7}{score}')"
   ]
  },
  {
   "cell_type": "markdown",
   "metadata": {},
   "source": [
    "**Evaluation:**\n",
    "\n",
    "After running this program, think about and answer these questions:\n",
    "\n",
    "1. What does the writer function do?\n",
    "2. What does the reader function do?\n",
    "3. How the the reader function read data?"
   ]
  },
  {
   "cell_type": "markdown",
   "metadata": {},
   "source": [
    "## 7.3 CSV FILES (Group)\n",
    "\n",
    "Write a program that will do the following:\n",
    "\n",
    "1. Use the same 'grades.csv' file\n",
    "2. Read the grades of the student and assign a Letter grade to them\n",
    "    - 90+ : A\n",
    "    - 70+ : B\n",
    "    - 60+ : C\n",
    "    - 40+ : D\n",
    "    - 40- : F\n",
    "3. Create a new file 'updated_grades.csv' and write the new data in the file.\n",
    "4. Display the contents of the file 'updated_grades.csv'"
   ]
  },
  {
   "cell_type": "code",
   "execution_count": 34,
   "metadata": {},
   "outputs": [
    {
     "ename": "AttributeError",
     "evalue": "'_csv.reader' object has no attribute 'writerow'",
     "output_type": "error",
     "traceback": [
      "\u001b[1;31m---------------------------------------------------------------------------\u001b[0m",
      "\u001b[1;31mAttributeError\u001b[0m                            Traceback (most recent call last)",
      "Cell \u001b[1;32mIn[34], line 25\u001b[0m\n\u001b[0;32m     23\u001b[0m         student_id, name, score \u001b[38;5;241m=\u001b[39m record\n\u001b[0;32m     24\u001b[0m         grade \u001b[38;5;241m=\u001b[39m check_grade(\u001b[38;5;28mint\u001b[39m(score))\n\u001b[1;32m---> 25\u001b[0m         reader\u001b[38;5;241m.\u001b[39mwriterow([student_id, name, score, grade])\n\u001b[0;32m     26\u001b[0m         \u001b[38;5;66;03m#student_scores = {student_id: [name, score, grade]}\u001b[39;00m\n\u001b[0;32m     27\u001b[0m         \u001b[38;5;66;03m#print(f'{student_id:<4}{name:<7}{score}{grade}')\u001b[39;00m\n\u001b[0;32m     29\u001b[0m \u001b[38;5;124;03m'''        \u001b[39;00m\n\u001b[0;32m     30\u001b[0m \u001b[38;5;124;03mwith open('updated_grades.csv', mode = 'w', newline='') as grades:\u001b[39;00m\n\u001b[0;32m     31\u001b[0m \u001b[38;5;124;03m        writer = csv.writer(grades)\u001b[39;00m\n\u001b[1;32m   (...)\u001b[0m\n\u001b[0;32m     37\u001b[0m \u001b[38;5;124;03m        writer.writerow([6, 'Sam', 100])\u001b[39;00m\n\u001b[0;32m     38\u001b[0m \u001b[38;5;124;03m'''\u001b[39;00m\n",
      "\u001b[1;31mAttributeError\u001b[0m: '_csv.reader' object has no attribute 'writerow'"
     ]
    }
   ],
   "source": [
    "'''\n",
    "1   Tom    98\n",
    "2   Matt   75\n",
    "3   Bob    62\n",
    "4   Kev    45\n",
    "5   Pam    23\n",
    "6   Sam    100\n",
    "'''\n",
    "\n",
    "def check_grade(score):\n",
    "    if score > 90:\n",
    "        grade = \"A\"\n",
    "    else:\n",
    "        grade = \"C\"   \n",
    "    return grade\n",
    "\n",
    "student_scores = dict()\n",
    "\n",
    "with open('grades.csv', 'r+', newline='') as grades:\n",
    "    #print(f'{\"ID\":<4}{\"Name\":<7}{\"Score\"}')\n",
    "    reader = csv.reader(grades)\n",
    "    for record in reader:\n",
    "        student_id, name, score = record\n",
    "        grade = check_grade(int(score))\n",
    "        #reader.writerow([student_id, name, score, grade])\n",
    "        #student_scores = {student_id: [name, score, grade]}\n",
    "        #print(f'{student_id:<4}{name:<7}{score}{grade}')\n",
    "\n",
    "       \n",
    "with open('updated_grades.csv', mode = 'w', newline='') as grades:\n",
    "        writer = csv.writer(grades)\n",
    "        writer.writerow([1, 'Tom', 98, ])\n",
    "        writer.writerow([2, 'Matt', 75])\n",
    "        writer.writerow([3, 'Bob', 62])\n",
    "        writer.writerow([4, 'Kev', 45])\n",
    "        writer.writerow([5, 'Pam', 23])\n",
    "        writer.writerow([6, 'Sam', 100])\n"
   ]
  },
  {
   "cell_type": "markdown",
   "metadata": {},
   "source": [
    "## 7.4 EXCEPTIONS (Follow)\n",
    "\n",
    "**Learning Objectives:**\n",
    "\n",
    "1. Understand the types of exceptions that can arise while file handling.\n",
    "2. Learn to deal with exceptions.\n",
    "3. Understand what is the importance and meaning of different file handling exceptions."
   ]
  },
  {
   "cell_type": "code",
   "execution_count": 15,
   "metadata": {},
   "outputs": [
    {
     "name": "stdout",
     "output_type": "stream",
     "text": [
      "Enter file name: test.txt\n",
      "Hello\n",
      "This is a Test File\n",
      "Welcome to AI Academy\n",
      "File opened in read mode !\n"
     ]
    }
   ],
   "source": [
    "\"\"\"\n",
    "Add comments for you own reference\n",
    "\"\"\"\n",
    "\n",
    "import io\n",
    "\n",
    "def main():\n",
    "    name = input(\"Enter file name: \")\n",
    "    try:\n",
    "        file = open(name,'r')\n",
    "        print(file.read())\n",
    "        file.write(\"HEY\")\n",
    "        file.close()\n",
    "    except FileNotFoundError:\n",
    "        print(\"No such file exists !\")\n",
    "    except PermissionError:\n",
    "        print(\"You do not have access here\")\n",
    "    except io.UnsupportedOperation:\n",
    "        print(\"File opened in read mode !\")\n",
    "main()"
   ]
  },
  {
   "cell_type": "markdown",
   "metadata": {},
   "source": [
    "**Evaluation:**\n",
    "\n",
    "After running this program, think about and answer these questions:\n",
    "\n",
    "1. What kind of other exceptions can arise?\n",
    "2. Lookup the exceptions in the above code and describe them briefly below.\n",
    "3. Can using context Manager avoid any exceptions or errors?"
   ]
  },
  {
   "cell_type": "markdown",
   "metadata": {},
   "source": [
    "## 7.4 EXCEPTIONS (Group)\n",
    "\n",
    "Write a program that will do the following:\n",
    "\n",
    "1. Use the code snippet above\n",
    "2. Ask the user the mode of opening the file and open the file in requested mode.\n",
    "3. Give user option to read, write or append after opening the file.\n",
    "4. Handle any exception during this process.\n",
    "5. Dont forget to close the file."
   ]
  },
  {
   "cell_type": "code",
   "execution_count": 22,
   "metadata": {},
   "outputs": [
    {
     "name": "stdout",
     "output_type": "stream",
     "text": [
      "Enter file name: blue.csv\n",
      "Do you want to read, write, or append to the file? (r, w, a): a\n",
      "Enter content to append to the file: Glue \n"
     ]
    }
   ],
   "source": [
    "import io\n",
    "\n",
    "def file_operations():\n",
    "    filename = input(\"Enter file name: \")\n",
    "    filemode = input(\"Do you want to read, write, or append to the file? (r, w, a): \")\n",
    "    \n",
    "    try:\n",
    "        with open(filename, filemode) as file:\n",
    "            if filemode == 'r':\n",
    "                print(file.read())\n",
    "            elif filemode == 'w':\n",
    "                content = input(\"Enter the content to write to the file: \")\n",
    "                file.write(content)\n",
    "            elif filemode == 'a':\n",
    "                content = input(\"Enter content to append to the file: \")\n",
    "                file.write(content)\n",
    "            else:\n",
    "                print(\"Invalid mode. Please enter read, write, or append.\")\n",
    "    except Exception as e:\n",
    "        print(f\"An error has occured working with the file: {e}\")\n",
    "        \n",
    "            \n",
    "        \n",
    "file_operations()\n"
   ]
  },
  {
   "cell_type": "markdown",
   "metadata": {},
   "source": [
    "## 7.5  Reading in files as classes (Follow):  \n",
    "\n",
    "**Learning Objectives:**\n",
    "\n",
    "    1. Understand how to read a file in as a class.\n",
    "    2. Understand why reading a file as a class can be useful."
   ]
  },
  {
   "cell_type": "code",
   "execution_count": 24,
   "metadata": {},
   "outputs": [],
   "source": [
    "# add comments to the code\n",
    "\n",
    "import csv\n",
    "\n",
    "class Athlete:\n",
    "    def __init__(self, name, sex, age, height, weight, team, noc, games, year, season, city, sport, event, medal):\n",
    "        self.__name = name\n",
    "        self.__sex = sex\n",
    "        self.__age = age\n",
    "        self.__height = height\n",
    "        self.__weight = weight\n",
    "        self.__team = team\n",
    "        self.__noc = noc\n",
    "        self.__games = games\n",
    "        self.__year = year\n",
    "        self.__season = season\n",
    "        self.__city = city\n",
    "        self.__sport = sport\n",
    "        self.__event = event\n",
    "        self.__medal = medal\n",
    "        \n",
    "        \n",
    "    def get_age(self):\n",
    "        try:\n",
    "            if int(self.__age) > 0:\n",
    "                return int(self.__age)\n",
    "        except:\n",
    "            pass\n",
    "            return 0\n",
    "        \n",
    "        "
   ]
  },
  {
   "cell_type": "code",
   "execution_count": 25,
   "metadata": {},
   "outputs": [
    {
     "name": "stdout",
     "output_type": "stream",
     "text": [
      " Average age in years for all olympians =  23.895895895895897\n"
     ]
    }
   ],
   "source": [
    "athlete_list = []\n",
    "age_total = 0\n",
    "\n",
    "with open('athlete_events_short.csv', 'r', newline='') as athletes:\n",
    "    reader = csv.reader(athletes)\n",
    "    \n",
    "    header = next(reader)\n",
    "    \n",
    "    for line in reader:\n",
    "        new_athlete = Athlete(line[1], line[2], line[3], line[4], line[5], line[6], \n",
    "            line[7], line[8], line[9], line[10], line[11], line[12], line[13], line[14])\n",
    "        athlete_list.append(new_athlete)\n",
    "        \n",
    "for athlete in athlete_list:\n",
    "    age_total += athlete.get_age()\n",
    "    \n",
    "print(\" Average age in years for all olympians = \", age_total/len(athlete_list))"
   ]
  },
  {
   "cell_type": "code",
   "execution_count": null,
   "metadata": {},
   "outputs": [],
   "source": [
    "# https://www.geeksforgeeks.org/args-kwargs-python/\n",
    "\n",
    "import csv\n",
    "\n",
    "class Athlete:\n",
    "    def __init__(self, header, *args):\n",
    "        self.__attributes = {}\n",
    "        \n",
    "        for X in range(len(header)):\n",
    "            self.__attributes[header[X]] = args[0][X]\n",
    "                \n",
    "    def get_age(self):\n",
    "        try:\n",
    "            if int(self.__attributes['Age']) > 0:\n",
    "                return int(self.__attributes['Age'])\n",
    "        except:\n",
    "            pass\n",
    "            return 0"
   ]
  },
  {
   "cell_type": "code",
   "execution_count": null,
   "metadata": {},
   "outputs": [],
   "source": [
    "athlete_list = []\n",
    "age_total = 0\n",
    "\n",
    "with open('athlete_events_short.csv', 'r', newline='') as athletes:\n",
    "    reader = csv.reader(athletes)\n",
    "    \n",
    "    header = next(reader)\n",
    "    \n",
    "    for line in reader:\n",
    "        new_athlete = Athlete(header, line)\n",
    "        athlete_list.append(new_athlete)\n",
    "        \n",
    "for athlete in athlete_list:\n",
    "    age_total += athlete.get_age()\n",
    "    \n",
    "print(\" Average age in years for all olympians = \", age_total/len(athlete_list))"
   ]
  },
  {
   "cell_type": "markdown",
   "metadata": {},
   "source": [
    "### As the above code executes, think about the following questions:\n",
    "\n",
    "1. What is this program doing?\n",
    "2. What does the newline='' do in line 4 above?\n",
    "3. What doe line 7 do?  Why is it there?\n",
    "4. Why did I implement a try/except block in 21-27 in the above code example?\n",
    "5. Am I actually finding the average age?  Explain."
   ]
  },
  {
   "cell_type": "markdown",
   "metadata": {},
   "source": [
    "## 7.5  Reading in files as classes (Group):  \n",
    "\n",
    "**Write a program that will do the following:**\n",
    "\n",
    "    1. Take the code above in 7.5 and extend it.  \n",
    "    2. Read in the file and compute the average weight and average height.\n",
    "    3. Also try to find the maximum height of all athletes.\n",
    "    4. Report the findings to the console."
   ]
  },
  {
   "cell_type": "code",
   "execution_count": null,
   "metadata": {},
   "outputs": [],
   "source": [
    "import csv\n",
    "\n",
    "class Athlete:\n",
    "    def __init__(self, *args):\n",
    "        self.__attributes = {}\n",
    "        #print(args)\n",
    "        for X in range(len(args[0])):\n",
    "            self.__attributes[args[0][X]] = args[1][X]\n",
    "                \n",
    "    def get_age(self):\n",
    "        try:\n",
    "            if int(self.__attributes['Age']) > 0:\n",
    "                return int(self.__attributes['Age'])\n",
    "        except:\n",
    "            pass\n",
    "            return 0"
   ]
  },
  {
   "cell_type": "code",
   "execution_count": 23,
   "metadata": {},
   "outputs": [],
   "source": [
    "import csv\n",
    "\n",
    "class Athlete:\n",
    "    def __init__(self, header, *args):\n",
    "        self.__attributes = {}    \n",
    "        for X in range(len(header)):\n",
    "            self.__attributes[header[X]] = args[0][X]\n",
    "                \n",
    "    def get_age(self):\n",
    "        try:\n",
    "            if int(self.__attributes['Age']) > 0:\n",
    "                return int(self.__attributes['Age'])\n",
    "        except:\n",
    "            pass\n",
    "            return 0\n",
    "\n",
    "    def get_weight(self):\n",
    "        try:\n",
    "            if int(self.__attributes['Weight']) > 0:\n",
    "                return int(self.__attributes['Weight'])\n",
    "        except:\n",
    "            pass\n",
    "            return 0\n",
    "        \n",
    "    def get_height(self):\n",
    "        try:\n",
    "            if int(self.__attributes['Height']) > 0:\n",
    "                return int(self.__attributes['Height'])\n",
    "        except:\n",
    "            pass\n",
    "            return 0\n",
    "        \n",
    "        \n",
    "   "
   ]
  },
  {
   "cell_type": "code",
   "execution_count": 4,
   "metadata": {},
   "outputs": [
    {
     "name": "stdout",
     "output_type": "stream",
     "text": [
      " Average age in years for all olympians =  23.895895895895897\n",
      "Average weight =  53.83883883883884\n",
      "Average height =  132.41141141141142\n",
      "Tallest athlete height =  210\n"
     ]
    }
   ],
   "source": [
    "athlete_list = []\n",
    "age_total = 0\n",
    "weight_total = 0\n",
    "height_total = 0\n",
    "max_height = 0\n",
    "\n",
    "with open('athlete_events_short.csv', 'r', newline='') as athletes:\n",
    "    reader = csv.reader(athletes)\n",
    "    \n",
    "    header = next(reader)\n",
    "    \n",
    "    for line in reader:\n",
    "        new_athlete = Athlete(header, line)\n",
    "        athlete_list.append(new_athlete)\n",
    "        \n",
    "for athlete in athlete_list:\n",
    "    age_total += athlete.get_age()\n",
    "    weight_total += athlete.get_weight()\n",
    "    height_total += athlete.get_height()\n",
    "    if (athlete.get_height() > max_height):\n",
    "        max_height = athlete.get_height()\n",
    "    \n",
    "print(\"Average age in years for all olympians = \", age_total/len(athlete_list))\n",
    "print(\"Average weight = \", weight_total/len(athlete_list))\n",
    "print(\"Average height = \", height_total/len(athlete_list))\n",
    "print(\"Tallest athlete height = \", max_height)"
   ]
  },
  {
   "cell_type": "markdown",
   "metadata": {},
   "source": [
    "## 7.6  Using JSON files (Follow):  \n",
    "\n",
    "**Learning Objectives:**\n",
    "\n",
    "    1. Understand what a JSON file is.\n",
    "    2. Understand how to use JSON files."
   ]
  },
  {
   "cell_type": "code",
   "execution_count": 26,
   "metadata": {},
   "outputs": [
    {
     "name": "stdout",
     "output_type": "stream",
     "text": [
      "squadName : Super hero squad\n",
      "homeTown : Metro City\n",
      "formed : 2016\n",
      "secretBase : Super tower\n",
      "active : True\n",
      "members : [{'name': 'Molecule Man', 'age': 29, 'secretIdentity': 'Dan Jukes', 'powers': ['Radiation resistance', 'Turning tiny', 'Radiation blast']}, {'name': 'Madame Uppercut', 'age': 39, 'secretIdentity': 'Jane Wilson', 'powers': ['Million tonne punch', 'Damage resistance', 'Superhuman reflexes']}, {'name': 'Eternal Flame', 'age': 1000000, 'secretIdentity': 'Unknown', 'powers': ['Immortality', 'Heat Immunity', 'Inferno', 'Teleportation', 'Interdimensional travel']}]\n",
      "\n",
      " {\n",
      "    \"squadName\": \"Super hero squad\",\n",
      "    \"homeTown\": \"Metro City\",\n",
      "    \"formed\": 2016,\n",
      "    \"secretBase\": \"Super tower\",\n",
      "    \"active\": true,\n",
      "    \"members\": [\n",
      "        {\n",
      "            \"name\": \"Molecule Man\",\n",
      "            \"age\": 29,\n",
      "            \"secretIdentity\": \"Dan Jukes\",\n",
      "            \"powers\": [\n",
      "                \"Radiation resistance\",\n",
      "                \"Turning tiny\",\n",
      "                \"Radiation blast\"\n",
      "            ]\n",
      "        },\n",
      "        {\n",
      "            \"name\": \"Madame Uppercut\",\n",
      "            \"age\": 39,\n",
      "            \"secretIdentity\": \"Jane Wilson\",\n",
      "            \"powers\": [\n",
      "                \"Million tonne punch\",\n",
      "                \"Damage resistance\",\n",
      "                \"Superhuman reflexes\"\n",
      "            ]\n",
      "        },\n",
      "        {\n",
      "            \"name\": \"Eternal Flame\",\n",
      "            \"age\": 1000000,\n",
      "            \"secretIdentity\": \"Unknown\",\n",
      "            \"powers\": [\n",
      "                \"Immortality\",\n",
      "                \"Heat Immunity\",\n",
      "                \"Inferno\",\n",
      "                \"Teleportation\",\n",
      "                \"Interdimensional travel\"\n",
      "            ]\n",
      "        }\n",
      "    ]\n",
      "}\n"
     ]
    }
   ],
   "source": [
    "import json\n",
    "  \n",
    "f = open('example.json')\n",
    "  \n",
    "data = json.load(f)\n",
    "\n",
    "type(data)\n",
    "  \n",
    "for i in data:\n",
    "    print(i, ':', data[i])\n",
    "  \n",
    "print('\\n', json.dumps(data, indent = 4, sort_keys=False))\n",
    "\n",
    "f.close()"
   ]
  },
  {
   "cell_type": "markdown",
   "metadata": {},
   "source": [
    "### As the above code executes, think about the following questions:\n",
    "\n",
    "1. What does a JSON file contain?\n",
    "2. How could we use a JSON file?\n",
    "3. Where do JSON files come from?"
   ]
  },
  {
   "cell_type": "markdown",
   "metadata": {},
   "source": [
    "## 7.6 Using JSON files. (Group):  \n",
    "\n",
    "**Write a program that will do the following:**\n",
    "\n",
    "    1. Create a JSON file from a dictionary.\n",
    "    2. Open the JSON file just like you open a text file.  \n",
    "    3. Just make sure you name the file with a .JSON file extension.\n",
    "    4. Create the dictionary from some context in your life or work.\n",
    "    5. Use the json.dump command from above to write to the file."
   ]
  },
  {
   "cell_type": "code",
   "execution_count": 27,
   "metadata": {},
   "outputs": [
    {
     "name": "stdout",
     "output_type": "stream",
     "text": [
      "Created JSON file mydata.json.\n"
     ]
    }
   ],
   "source": [
    "import json\n",
    "\n",
    "# Dictionary\n",
    "data = {\n",
    "    \"name\": \"Richard Wherry\",\n",
    "    \"is_person\": True,\n",
    "    \"hobbies\": [\"Running\", \"Swimming\", \"Gardening\"]\n",
    "}\n",
    "\n",
    "filename = 'mydata.json'\n",
    "\n",
    "with open(filename, 'w') as f:\n",
    "    json.dump(data, f, indent=4)\n",
    "    \n",
    "print(f\"Created JSON file {filename}.\")\n",
    "\n"
   ]
  }
 ],
 "metadata": {
  "kernelspec": {
   "display_name": "Python 3 (ipykernel)",
   "language": "python",
   "name": "python3"
  },
  "language_info": {
   "codemirror_mode": {
    "name": "ipython",
    "version": 3
   },
   "file_extension": ".py",
   "mimetype": "text/x-python",
   "name": "python",
   "nbconvert_exporter": "python",
   "pygments_lexer": "ipython3",
   "version": "3.11.5"
  }
 },
 "nbformat": 4,
 "nbformat_minor": 2
}
