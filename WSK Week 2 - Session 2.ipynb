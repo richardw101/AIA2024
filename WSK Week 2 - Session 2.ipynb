{
 "cells": [
  {
   "cell_type": "markdown",
   "id": "2c77e88b",
   "metadata": {},
   "source": [
    "# Workshop 2 Session 2\n",
    "\n",
    "This notebook will cover the following topics:\n",
    "\n",
    "1. Introduction to functions and modular design\n",
    "2. Passing arguments to functions\n",
    "3. Functions that return nothing and functions that return something\n",
    "4. Scope\n",
    "5. Logging\n",
    "6. Generators"
   ]
  },
  {
   "cell_type": "markdown",
   "id": "e33c30f5",
   "metadata": {},
   "source": [
    "## 2.1 Function Calls and Program Flow (Follow):  \n",
    "\n",
    "**Learning Objectives:**\n",
    "\n",
    "    1. Understand how functions are called.\n",
    "    2. Understand the need for functions in programs.\n",
    "    3. Trace the execution of a program through a function call.\n",
    "    4. Understand the need for modular design in a program."
   ]
  },
  {
   "cell_type": "code",
   "execution_count": null,
   "id": "fa1b562d",
   "metadata": {},
   "outputs": [],
   "source": [
    "# Add comments to the code \n",
    "# Put numbers next to the lines in the order the program executes\n",
    "\n",
    "def main():\n",
    "    \"\"\"\n",
    "    Simple main function.\n",
    "    \n",
    "    Args: none\n",
    "    \"\"\"\n",
    "    print('I have a message for you.')\n",
    "    message()\n",
    "    print('Goodbye!')\n",
    "\n",
    "def message():\n",
    "    \"\"\"\n",
    "    Print a simple message.\n",
    "    \n",
    "    Args: none\n",
    "    \"\"\"\n",
    "    print('I am Arthur.')\n",
    "    print('King of the Britons.')\n",
    "\n",
    "# Note that we call main() which prints a statement,\n",
    "# then call the message() function which prints\n",
    "# two more statements, then we print Goodbye in main() again.\n",
    "main()\n"
   ]
  },
  {
   "cell_type": "code",
   "execution_count": null,
   "id": "8dddb31c",
   "metadata": {},
   "outputs": [],
   "source": [
    "# Add comments to the code \n",
    "# put numbers next to the lines in the order the program executes\n",
    "\n",
    "def main():\n",
    "    \"\"\"\n",
    "    Again we have a simple main() function that does some stuff.\n",
    "    Interesting that the function string doc needs to be indented.\n",
    "    Otherwise we get an error: \n",
    "    IndentationError: expected an indented block after function definition on line 4\n",
    "    Args: none\n",
    "    \"\"\"\n",
    "    print(\"Reseting the variables, feet and inches to 0.0\")\n",
    "    feet = 0.0\n",
    "    inches = 0.0\n",
    "\n",
    "    feet = float(input('Enter the number of feet: '))\n",
    "\n",
    "    print(\"Calling feet_to_inches().\")\n",
    "    inches = feet_to_inches(feet)\n",
    "    print (f'{feet} feet = {inches} inches')\n",
    "    print(\"Leaving main(). Goodbye.\")\n",
    "    \n",
    "def feet_to_inches(feet):\n",
    "    \"\"\"\n",
    "    Converts feet to inches by multiplying the paramenter by 12.\n",
    "    \n",
    "    Args:\n",
    "    feet : number of fee to print. can be a float.\n",
    "    \"\"\"\n",
    "    print(\"In the function feet_to_inches().\")\n",
    "    return 12 * feet\n",
    "\n",
    "\n",
    "main()\n"
   ]
  },
  {
   "cell_type": "markdown",
   "id": "8f34e0a3",
   "metadata": {},
   "source": [
    "### As the above code executes, think about the following questions:\n",
    "\n",
    "1. What is the first thing that is executed? ***calls the main() function, so variables are set to 0.0 to start***\n",
    "2. What is the second thing, and so on? ***then we read the input, which is the feet to convert as a float***\n",
    "3. Why would someone need to create a function in a program? ***instead of writing the same code over and over***\n",
    "4. Try inserting some print statements into the above code to trace the execution. ***Done***"
   ]
  },
  {
   "cell_type": "markdown",
   "id": "69bd6992",
   "metadata": {},
   "source": [
    "## 2.1 Function Calls and Program Flow (Group): \n",
    "\n",
    "Write a program that will do the following:\n",
    "\n",
    "1. Convert miles to kilometers.\n",
    "2. Take input from the user in miles\n",
    "3. Create a function that will convert the input to kilometers\n",
    "4. Output the answer to the user.\n",
    "\n",
    "1 kilometer = .6214 miles\n",
    "\n",
    "1 mile = 1.609 kilometers"
   ]
  },
  {
   "cell_type": "code",
   "execution_count": null,
   "id": "674388d5",
   "metadata": {},
   "outputs": [],
   "source": [
    "# Some intial comments. Program to convert miles to kilometers.\n",
    "\n",
    "def main():\n",
    "    \"\"\"\n",
    "    My main function to direct things.\n",
    "    \n",
    "    No args.\n",
    "    \"\"\"\n",
    "    print('Initializing variables to 0.0')\n",
    "    miles = 0.0\n",
    "    kilomteres = 0.0\n",
    "    \n",
    "    miles = float(input(\"Input miles to convert to kilometers: \"))\n",
    "    kilometers = miles_to_kilometers(miles)\n",
    "    print(f'{miles} miles is {kilometers:.5f} kilometers.')\n",
    "    print('Exiting main(). Good bye.')\n",
    "\n",
    "    \n",
    "def miles_to_kilometers(miles):\n",
    "    \"\"\"\n",
    "    Function to convert miles to kilometers.\n",
    "    \n",
    "    Args:\n",
    "    miles: convert these miles to kilometers.\n",
    "    \n",
    "    Output:\n",
    "    Return the converted kilometers.\n",
    "    \"\"\"\n",
    "    return 1.609 * miles\n",
    "    \n",
    "# call my main function\n",
    "main()"
   ]
  },
  {
   "cell_type": "markdown",
   "id": "e5adbdd3",
   "metadata": {},
   "source": [
    "## 2.2 Passing Arguments to Functions (Follow):  \n",
    "\n",
    "**Learning Objectives:**\n",
    "\n",
    "    1. Understand how arguments are passed to a function.\n",
    "    2. Understand what arguments can be passed to a function.\n",
    "    "
   ]
  },
  {
   "cell_type": "code",
   "execution_count": null,
   "id": "d94cc193",
   "metadata": {},
   "outputs": [],
   "source": [
    "# add comments to the code\n",
    "\n",
    "def main():\n",
    "    \"\"\"\n",
    "    Again this is my main function. I request a few bits of information\n",
    "    from the user, suchas a present value of the account, an interest\n",
    "    rate, and # of months out that I want to get future value.\n",
    "    \n",
    "    Args: none\n",
    "    \"\"\"\n",
    "\n",
    "    presentValue = 0.0\n",
    "    interestRate = 0.0\n",
    "    months = 0\n",
    "    futureValue = 0.0\n",
    "\n",
    "    presentValue = float(input('Enter the present value '\n",
    "                               'of the account in dollars: '))\n",
    "    \n",
    "    interestRate = float(input('Enter the monthly interest '\n",
    "                               'rate as a  percentage: '))\n",
    "    \n",
    "    months = int(input('Enter the number of months: '))\n",
    "\n",
    "    print('The information for your account is:')\n",
    "    print(f'Present value: ${presentValue:.2f}')\n",
    "    print(f'Interest Rate: {interestRate/100:.2%}')\n",
    "    print(f'After {months} months, the value of your account will be: ')\n",
    "          \n",
    "    getFutureValue(presentValue, interestRate, months)\n",
    "    \n",
    "    print('Exiting main() function. Goodbye.')\n",
    "\n",
    "    \n",
    "def getFutureValue(presentValue, interestRate, months):\n",
    "    \"\"\"\n",
    "    Calculate the future value of my account.\n",
    "    \n",
    "    Args:\n",
    "    presentValue:\n",
    "    interestRate:\n",
    "    months\n",
    "    \n",
    "    Returns the future value of the given present value, IR and months.\n",
    "    Actually NO IT DOES NOT. It does not return anything, just prints the\n",
    "    the futureValue with a print statement.\n",
    "    \"\"\"\n",
    "    # Not sure what F is here. ???\n",
    "    F = 0.0\n",
    "    i = interestRate / 100 \n",
    "    futureValue = presentValue * ((1 + i/12) **months)\n",
    "    \n",
    "    print(f' $', f'{futureValue:,.2f}')\n",
    "\n",
    "main()"
   ]
  },
  {
   "cell_type": "code",
   "execution_count": null,
   "id": "5d716c8c",
   "metadata": {},
   "outputs": [],
   "source": [
    "# add comments to the code\n",
    "\n",
    "def main():\n",
    "    \"\"\"\n",
    "    My main() function.\n",
    "    \"\"\"\n",
    "    print('Initializing variables.')\n",
    "    a_list = []\n",
    "    list_value = 1\n",
    "    \n",
    "    while list_value != 0:\n",
    "        list_value = float(input('Enter a number, zero to exit: '))\n",
    "        a_list.append(list_value)\n",
    "    \n",
    "    print('Calling find_sum().')\n",
    "    find_sum(a_list)\n",
    "    print('Exiting main(). Good bye.')\n",
    "\n",
    "    \n",
    "def find_sum(some_list):\n",
    "    \"\"\"\n",
    "    Calculates the some of the elements of the list.\n",
    "    \n",
    "    Args:\n",
    "    some_list: list of numbers to sum\n",
    "    \n",
    "    Prints sum at the end, but does not formally return the sum.\n",
    "    \"\"\"\n",
    "    sum = 0\n",
    "    for number in some_list:\n",
    "        sum += number\n",
    "    \n",
    "    print(sum)\n",
    "    \n",
    "main()"
   ]
  },
  {
   "cell_type": "markdown",
   "id": "a9cdc596",
   "metadata": {},
   "source": [
    "### As the above code executes, think about the following questions:\n",
    "\n",
    "1. Trace the execution of the code by placing print statements throughout.\n",
    "2. How do the arguments being passed into the function compare to the arguments being used to call the function?\n",
    "3. Change the name of the arguments in the function and see what happens.\n",
    "4. What does the plus equal do in the second program?"
   ]
  },
  {
   "cell_type": "markdown",
   "id": "68899c00",
   "metadata": {},
   "source": [
    "## 2.2 Passing arguments to functions (Group): \n",
    "\n",
    "Write a program that will do the following:\n",
    "\n",
    "1. Take a number input from the user.\n",
    "2. Compute the factorial of that number.\n",
    "3. You may not use any libraries for this program.  \n",
    "4. Print the factorial for the number input to the user.\n",
    "\n",
    "### Caution:  There is an upper limit to the number that can be computed.\n",
    "\n",
    "N Factorial = N! = N(N-1)(N-2)...(1)"
   ]
  },
  {
   "cell_type": "code",
   "execution_count": null,
   "id": "76d6fc0e",
   "metadata": {},
   "outputs": [],
   "source": [
    "# Factorial program\n",
    "\n",
    "def main():\n",
    "    \"\"\"\n",
    "    My main() function to take input and compute factorial.\n",
    "    \"\"\"\n",
    "    num = float(input('Enter a number to compute factorial: '))\n",
    "    \n",
    "    print('Calling calculate_factorial() function.')\n",
    "    print(f'The factorial of {num} is ')\n",
    "    calculate_factorial(num)\n",
    "    print('Exiting main(). Good bye.')\n",
    "    \n",
    "    \n",
    "def calculate_factorial(n):\n",
    "    \"\"\"\n",
    "    Compute factorial of n.\n",
    "    \n",
    "    Args:\n",
    "    n: number of which to compute factorial\n",
    "    \"\"\"\n",
    "    fact = 1\n",
    "    i = n\n",
    "    while i != 0:\n",
    "        fact = fact*(i)\n",
    "        i -= 1\n",
    "        \n",
    "    print(fact)\n",
    "\n",
    "# call main()\n",
    "main()\n"
   ]
  },
  {
   "cell_type": "markdown",
   "id": "4e7aab1c",
   "metadata": {},
   "source": [
    "## 2.3  Functions that return nothing and functions that return something (Follow):  \n",
    "\n",
    "**Learning Objectives:**\n",
    "\n",
    "    1. Understand what it means for a function to return something.\n",
    "    2. Understand how what a function returns can be used in other functions.\n",
    "    3. Understand what can be returned by a function.\n",
    "    "
   ]
  },
  {
   "cell_type": "code",
   "execution_count": null,
   "id": "343c0762",
   "metadata": {},
   "outputs": [],
   "source": [
    "# add comments to the code\n",
    "\n",
    "# Ahhh using the random library, finally\n",
    "import random\n",
    "\n",
    "def main():\n",
    "    num1 = 0\n",
    "    num2 = 0\n",
    "    correctAnswer = 0\n",
    "    userAnswer = 0\n",
    "\n",
    "    num1 = random.randint(0, 999)\n",
    "    num2 = random.randint(0, 999)\n",
    "    \n",
    "    displayProblem(num1,num2)\n",
    "\n",
    "    userAnswer = getAnswer()\n",
    "\n",
    "    correctAnswer = num1 + num2\n",
    "\n",
    "    if (showResult(correctAnswer, userAnswer)):\n",
    "        print ('Correct answer – Good Work!')\n",
    "    else:\n",
    "        print (f'Incorrect... The correct answer is: {correctAnswer}')\n",
    "\n",
    "\n",
    "def displayProblem(num1,num2):\n",
    "    print (f'{num1:5}')\n",
    "    print (f'+{num2:4}')\n",
    "    \n",
    "\n",
    "def getAnswer():\n",
    "    inputAnswer = int(input('Enter sum of numbers: '))\n",
    "    return inputAnswer\n",
    "    \n",
    "\n",
    "def showResult (correctAnswer, answer):\n",
    "    if correctAnswer == answer:\n",
    "        return True\n",
    "    else:\n",
    "        return False\n",
    "\n",
    "\n",
    "main()"
   ]
  },
  {
   "cell_type": "code",
   "execution_count": null,
   "id": "5d141e13",
   "metadata": {},
   "outputs": [],
   "source": [
    "# add comments to the code\n",
    "\n",
    "def main():\n",
    "\n",
    "    time_list, distance_list = build_fall_chart()\n",
    "    print(type(time_list))\n",
    "    print ('Time\\tFalling Distance')\n",
    "    print ('-----------------------------')\n",
    "    \n",
    "    for index in range(len(time_list)):\n",
    "        print(f'{time_list[index]}\\t{distance_list[index]:.2f}')\n",
    "\n",
    "        \n",
    "def build_fall_chart():\n",
    "    time_list = []\n",
    "    distance_list = []\n",
    "    \n",
    "    for time in range(1, 11):\n",
    "        distance_list.append(falling_distance(time))\n",
    "        time_list.append(time)\n",
    "    \n",
    "    return time_list, distance_list\n",
    "    \n",
    "    \n",
    "def falling_distance(time):\n",
    "    fallDistance = (9.8 * time * time) / 2\n",
    "    return fallDistance\n",
    "\n",
    "\n",
    "main()"
   ]
  },
  {
   "cell_type": "markdown",
   "id": "fe69f14d",
   "metadata": {},
   "source": [
    "### As the above code executes, think about the following questions:\n",
    "\n",
    "1. Trace the execution of the code by placing print statements throughout.\n",
    "2. Look at the first two programs and discuss how the same program is created but executed differently.\n",
    "3. Look at the thrid program and discuss how the return statement can be used to return multiple things at the same time."
   ]
  },
  {
   "cell_type": "markdown",
   "id": "bffcec5b",
   "metadata": {},
   "source": [
    "## 2.3 Functions that return nothing and functions that return something (Group): \n",
    "\n",
    "Write a program that will do the following:\n",
    "\n",
    "1. Compute the kinetic energy for five different individuals.\n",
    "2. You may input the values for the individuals or hard-code them.\n",
    "3. Store the results for the individuals in some fashion, think list or dictionary.\n",
    "4. Print the results that have been stored.\n",
    "5. ***Implement each of the above items in different functions, think modularly.***\n",
    "\n",
    "KE = 1/2 m v^2  where: KE = kinetic energy(J), m = mass(Kg), v = velocity(m/s)"
   ]
  },
  {
   "cell_type": "code",
   "execution_count": null,
   "id": "2962e268",
   "metadata": {},
   "outputs": [],
   "source": [
    "def main():\n",
    "    # Define the data structure, seems like a nested list would be useful\n",
    "    mv_by_pers = [[28,3],[50, 20],[60, 16],[6,6],[0,2345]]\n",
    "\n",
    "    ke_by_pers = []\n",
    "\n",
    "    for mv in (mv_by_pers):\n",
    "        ke_by_pers.append(calc_ke(mv[0], mv[1]))\n",
    "\n",
    "    print(ke_by_pers)  \n",
    "\n",
    "def calc_ke(m, v):\n",
    "    return 0.5 * m * v * v\n",
    "\n",
    "main()                   "
   ]
  },
  {
   "cell_type": "markdown",
   "id": "98c90eb5",
   "metadata": {},
   "source": [
    "## 2.4  Scope (Follow):  \n",
    "\n",
    "**Learning Objectives:**\n",
    "\n",
    "    1. Understand variable scope.\n",
    "    2. Understand Global variables and how to use them appropriately.\n",
    "    3. Understand local variables and their scope."
   ]
  },
  {
   "cell_type": "code",
   "execution_count": null,
   "id": "ba0d4df5",
   "metadata": {},
   "outputs": [],
   "source": [
    "# Add comments to the code\n",
    "\n",
    "def main():\n",
    "    mass = 0.0\n",
    "    velocity = 0.0\n",
    "    KE = 0.0\n",
    "\n",
    "    mass = float(input('Enter the mass of the object in kilograms: '))\n",
    "\n",
    "    velocity = float(input('Enter object velocity in meters per second: '))\n",
    "\n",
    "    KE = kinetic_energy(mass, velocity)\n",
    "\n",
    "    print (f'Kinetic Energy is: {KE:.2f} joules')\n",
    "\n",
    "\n",
    "def kinetic_energy(mass, velocity):\n",
    "    KE = 0.0\n",
    "    \n",
    "    KE = (mass * velocity * velocity) / 2\n",
    "    return KE\n",
    "\n",
    "\n",
    "main()\n",
    "#print(mass)"
   ]
  },
  {
   "cell_type": "code",
   "execution_count": null,
   "id": "7ec4de9e",
   "metadata": {},
   "outputs": [],
   "source": [
    "# add comments to the code\n",
    "\n",
    "import random\n",
    "\n",
    "HEADS = 1\n",
    "TAILS = 2\n",
    "TOSSES = 10\n",
    "\n",
    "def main():\n",
    "    global TOSSES\n",
    "    TOSSES = 5\n",
    "    \n",
    "    for toss in range(TOSSES):\n",
    "        if random.randint(HEADS, TAILS) == HEADS:\n",
    "            print('Heads')\n",
    "        else:\n",
    "            print('Tails')\n",
    "            \n",
    "\n",
    "main()\n",
    "\n",
    "print(TOSSES)"
   ]
  },
  {
   "cell_type": "markdown",
   "id": "53d3bca3",
   "metadata": {},
   "source": [
    "### As the above code executes, think about the following questions:\n",
    "\n",
    "1. Look at the top program and label the local variables.\n",
    "2. Determine the scope of these local variables.\n",
    "3. Place a print statement for one of the local variables after the main() and explain the results.\n",
    "4. Look at the second program and determine the global variables.\n",
    "5. Place a print statement for one of the global variables after the main() and explain the results."
   ]
  },
  {
   "cell_type": "markdown",
   "id": "a029d75d",
   "metadata": {},
   "source": [
    "## 2.4  Scope (Group):  \n",
    "\n",
    "Write a program that will do the following:\n",
    "\n",
    "1. Generate a random number.\n",
    "2. The user will then input a number.\n",
    "3. The program will then tell the user if they are too high or too low.\n",
    "4. The user is prompted again, and the user enters a new number.\n",
    "5. This process repeats until the user guesses the correct number.\n",
    "6. The user can exit by guessing 0.\n",
    "7. Think modularly and use global and local variables.\n"
   ]
  },
  {
   "cell_type": "code",
   "execution_count": null,
   "id": "8c5ac6af",
   "metadata": {},
   "outputs": [],
   "source": [
    "import random\n",
    "\n",
    "def main():\n",
    "    \"\"\"\n",
    "    My main function.\n",
    "    \n",
    "    \"\"\"\n",
    "    random_number = get_random()\n",
    "    not_guessed = True\n",
    "    while not_guessed:\n",
    "        user_number = get_user_number()\n",
    "        if user_number > random_number:\n",
    "            print(f'{user_number} is too high.')\n",
    "        elif user_number < random_number:\n",
    "            print(f'{user_number} is too low.')\n",
    "        else:\n",
    "            not_guessed = False\n",
    "    \n",
    "    print(\"Thank you. Goodbye.\")\n",
    "    \n",
    "def get_random():\n",
    "    return random.randint(1,1000)\n",
    "\n",
    "def get_user_number():\n",
    "    \"\"\"\n",
    "    Get the number from the user.\n",
    "    \n",
    "    \"\"\"\n",
    "    return float(input('Please enter a number between 1 and 1000:'))\n",
    "    \n",
    "    \n",
    "main()\n"
   ]
  },
  {
   "cell_type": "markdown",
   "id": "3847ebc5",
   "metadata": {},
   "source": [
    "## 2.5  Logging (Follow):  \n",
    "\n",
    "**Learning Objectives:**\n",
    "\n",
    "1. Learn about logging module and importing it.\n",
    "2. Learn about levels of logging\n",
    "3. Learn to use logging to debug"
   ]
  },
  {
   "cell_type": "code",
   "execution_count": 120,
   "id": "c53b43bc",
   "metadata": {},
   "outputs": [],
   "source": [
    "#https://www.logicmonitor.com/blog/python-logging-levels-explained\n",
    "# import logging module\n",
    "import logging\n",
    "\n",
    "# config logging module\n",
    "logging.basicConfig(format='%(asctime)s - %(message)s',level=logging.DEBUG)"
   ]
  },
  {
   "cell_type": "code",
   "execution_count": 121,
   "id": "ba8051f3",
   "metadata": {
    "scrolled": false
   },
   "outputs": [
    {
     "name": "stderr",
     "output_type": "stream",
     "text": [
      "2024-01-17 19:58:17,999 - We got here!\n",
      "2024-01-17 19:58:18,000 - Started doing computation.\n",
      "2024-01-17 19:58:18,000 - Hmm, that felt a little off.\n",
      "2024-01-17 19:58:18,003 - That directory did not exist. Try again.\n",
      "2024-01-17 19:58:18,003 - Something bad happened. It's you, not me.\n"
     ]
    }
   ],
   "source": [
    "logging.debug(\"We got here!\")\n",
    "logging.info(\"Started doing computation.\")\n",
    "logging.warning(\"Hmm, that felt a little off.\")\n",
    "logging.error(\"That directory did not exist. Try again.\")\n",
    "logging.critical(\"Something bad happened. It's you, not me.\")"
   ]
  },
  {
   "cell_type": "code",
   "execution_count": null,
   "id": "02f8fcb3",
   "metadata": {},
   "outputs": [
    {
     "name": "stderr",
     "output_type": "stream",
     "text": [
      "2024-01-17 19:58:19,893 - Taking inputs\n"
     ]
    }
   ],
   "source": [
    "\"\"\"\n",
    "Add comments for you own reference\n",
    "\"\"\"\n",
    "\n",
    "def get_area(length,width):\n",
    "    logging.debug(\"Inside Function 'get_area'\")\n",
    "    logging.info(f\"Parameters : length : {length}, width : {width}\")\n",
    "    return length*width\n",
    "\n",
    "logging.debug(\"Taking inputs\")\n",
    "lengthA = float(input('Enter length A: '))\n",
    "\n",
    "widthA = float(input('Enter width A: '))\n",
    "\n",
    "lengthB = float(input('Enter length B: '))\n",
    "\n",
    "widthB = float(input('Enter width B: '))\n",
    "\n",
    "logging.info(f\"Inputs are: lengthA : {lengthA}, widthA : {widthA}, lengthB : {lengthB}, widthB : {widthB}\")\n",
    "\n",
    "if lengthA <= 0 or lengthB <= 0 or widthA <= 0 or widthB <= 0:\n",
    "    logging.warning(\"Input is 0 or -ve\")\n",
    "    print(\"Incorrect Input, Value is either negative or 0\")\n",
    "else:\n",
    "    logging.debug(\"Getting Areas\")\n",
    "    \n",
    "    areaA = get_area(lengthA,widthA)\n",
    "    areaB = get_area(lengthB,widthB)\n",
    "    \n",
    "    logging.info(f\"AreaA : {areaA} & AreaB : {areaB}\")\n",
    "    \n",
    "    print(f'Area A: {areaA:.2f}')\n",
    "    print(f'Area B: {areaB:.2f}')\n",
    "\n",
    "    logging.debug(\"Comparing Areas & Printing Difference\")\n",
    "    if  areaA > areaB:\n",
    "        print('Area A is greater than Area B.')\n",
    "        print(f'Difference in areas is : {areaA-areaB:,.32f}')\n",
    "    elif  areaA < areaB:\n",
    "        print('Area B is greater than Area A.')\n",
    "        print(f'Difference in areas is : {areaB-areaA:,.32}')\n",
    "    else:\n",
    "        print('Area A is equal to Area B.')"
   ]
  },
  {
   "cell_type": "markdown",
   "id": "63c9282c",
   "metadata": {},
   "source": [
    "### As the above code executes, think about the following questions:\n",
    "\n",
    "1. What do the numbers mean on the left hand side of the ouput mean?\n",
    "2. How could using logging be useful?\n",
    "3. What do the different debugging functions do?"
   ]
  },
  {
   "cell_type": "markdown",
   "id": "4569e9f0",
   "metadata": {},
   "source": [
    "## 2.5  Logging (Group):  \n",
    "\n",
    "Write a program that will do the following:\n",
    "\n",
    "1. Use a program you have already written.\n",
    "2. Add logging commands into that program.\n",
    "3. Trace the execution use the logging commands."
   ]
  },
  {
   "cell_type": "code",
   "execution_count": 1,
   "id": "b6049286",
   "metadata": {},
   "outputs": [
    {
     "name": "stderr",
     "output_type": "stream",
     "text": [
      "2024-01-17 19:19:06,864 - Inside Function 'main'\n",
      "2024-01-17 19:19:06,866 - Inside Function 'get_random'\n",
      "2024-01-17 19:19:06,866 - Random number is: 46\n",
      "2024-01-17 19:19:06,868 - Inside Function 'get_user_number'\n"
     ]
    },
    {
     "name": "stdout",
     "output_type": "stream",
     "text": [
      "Please enter a number between 1 and 100:99\n"
     ]
    },
    {
     "name": "stderr",
     "output_type": "stream",
     "text": [
      "2024-01-17 19:19:16,371 - Input is: 99.0\n"
     ]
    },
    {
     "name": "stdout",
     "output_type": "stream",
     "text": [
      "99.0 is too high.\n"
     ]
    },
    {
     "name": "stderr",
     "output_type": "stream",
     "text": [
      "2024-01-17 19:19:16,372 - Inside Function 'get_user_number'\n"
     ]
    },
    {
     "name": "stdout",
     "output_type": "stream",
     "text": [
      "Please enter a number between 1 and 100:23\n"
     ]
    },
    {
     "name": "stderr",
     "output_type": "stream",
     "text": [
      "2024-01-17 19:19:22,389 - Input is: 23.0\n"
     ]
    },
    {
     "name": "stdout",
     "output_type": "stream",
     "text": [
      "23.0 is too low.\n"
     ]
    },
    {
     "name": "stderr",
     "output_type": "stream",
     "text": [
      "2024-01-17 19:19:22,390 - Inside Function 'get_user_number'\n"
     ]
    },
    {
     "name": "stdout",
     "output_type": "stream",
     "text": [
      "Please enter a number between 1 and 100:46\n"
     ]
    },
    {
     "name": "stderr",
     "output_type": "stream",
     "text": [
      "2024-01-17 19:19:29,346 - Input is: 46.0\n"
     ]
    },
    {
     "name": "stdout",
     "output_type": "stream",
     "text": [
      "Thank you. Goodbye.\n"
     ]
    }
   ],
   "source": [
    "# import logging module\n",
    "import logging\n",
    "\n",
    "# config logging module\n",
    "logging.basicConfig(format='%(asctime)s - %(message)s',level=logging.DEBUG)\n",
    "\n",
    "import random\n",
    "\n",
    "def main():\n",
    "    \"\"\"\n",
    "    My main function.\n",
    "    \n",
    "    \"\"\"\n",
    "    logging.debug(\"Inside Function 'main'\")\n",
    "    random_number = get_random()\n",
    "    logging.info(f\"Random number is: {random_number}\")\n",
    "    not_guessed = True\n",
    "    while not_guessed:\n",
    "        user_number = get_user_number()\n",
    "        logging.info(f\"Input is: {user_number}\")\n",
    "        if user_number > random_number:\n",
    "            print(f'{user_number} is too high.', flush=True)\n",
    "        elif user_number < random_number:\n",
    "            print(f'{user_number} is too low.', flush=True)\n",
    "        else:\n",
    "            not_guessed = False\n",
    "    \n",
    "    print(\"Thank you. Goodbye.\")\n",
    "    \n",
    "def get_random():\n",
    "    logging.debug(\"Inside Function 'get_random'\")\n",
    "    return random.randint(1,100)\n",
    "\n",
    "def get_user_number():\n",
    "    \"\"\"\n",
    "    Get the number from the user.\n",
    "    \n",
    "    \"\"\"\n",
    "    logging.debug(\"Inside Function 'get_user_number'\")\n",
    "    return float(input('Please enter a number between 1 and 100:'))\n",
    "    \n",
    "main()\n"
   ]
  },
  {
   "cell_type": "markdown",
   "id": "2e6091e3",
   "metadata": {},
   "source": [
    "## 2.6  Generator Functions (Follow):  \n",
    "\n",
    "**Learning Objectives:**\n",
    "\n",
    "1. Learn what an iterator is and how to use it.\n",
    "2. Learn what the next function does and how it works.\n",
    "3. Learn what a generator function is and how it works."
   ]
  },
  {
   "cell_type": "code",
   "execution_count": 2,
   "id": "82def5f8",
   "metadata": {},
   "outputs": [
    {
     "name": "stdout",
     "output_type": "stream",
     "text": [
      "apple\n",
      "banana\n",
      "cherry\n",
      "EOL\n",
      "EOL\n"
     ]
    }
   ],
   "source": [
    "\"\"\"\n",
    "Add comments for you own reference\n",
    "\"\"\"\n",
    "\n",
    "mylist = iter([\"apple\", \"banana\", \"cherry\"])\n",
    "\n",
    "print(next(mylist, 'EOL'))\n",
    "print(next(mylist, 'EOL'))\n",
    "print(next(mylist, 'EOL'))\n",
    "print(next(mylist, 'EOL'))\n",
    "print(next(mylist, 'EOL'))"
   ]
  },
  {
   "cell_type": "code",
   "execution_count": 3,
   "id": "693d5361",
   "metadata": {},
   "outputs": [],
   "source": [
    "\"\"\"\n",
    "Add comments for you own reference\n",
    "\"\"\"\n",
    "\n",
    "def infinite_sequence():\n",
    "    num = 0\n",
    "    while num < 10:\n",
    "        yield num\n",
    "        num += 1\n",
    "        \n",
    "inf_seq = infinite_sequence()"
   ]
  },
  {
   "cell_type": "code",
   "execution_count": 4,
   "id": "c0d1182b",
   "metadata": {},
   "outputs": [
    {
     "name": "stdout",
     "output_type": "stream",
     "text": [
      "0\n"
     ]
    }
   ],
   "source": [
    "\"\"\"\n",
    "Add comments for you own reference\n",
    "\"\"\"\n",
    "\n",
    "#print(type(inf_seq))\n",
    "#print(dir(inf_seq))\n",
    "print(next(inf_seq, 'EOL'))"
   ]
  },
  {
   "cell_type": "markdown",
   "id": "412f3105",
   "metadata": {},
   "source": [
    "### As the above code executes, think about the following questions:\n",
    "\n",
    "1. What does the iter() key word do?\n",
    "2. What does the next() key word do?\n",
    "3. What is a generator function and how does it work?"
   ]
  },
  {
   "cell_type": "markdown",
   "id": "e3eb3126",
   "metadata": {},
   "source": [
    "## 2.6  Generator Functions (Group):  \n",
    "\n",
    "Write a program that will do the following:\n",
    "\n",
    "1. Take an integer input from the user.\n",
    "2. Use a generator function to generate even numbers up to the input.\n",
    "3. If the user enters 5, the program will print 0, 2, 4."
   ]
  },
  {
   "cell_type": "code",
   "execution_count": 113,
   "id": "7da08f6f",
   "metadata": {},
   "outputs": [
    {
     "name": "stdout",
     "output_type": "stream",
     "text": [
      "give me a number:5\n"
     ]
    }
   ],
   "source": [
    "def get_even(maxnum):\n",
    "    num = 0\n",
    "    while num <= maxnum:\n",
    "        yield num\n",
    "        num += 2\n",
    "        \n",
    "\n",
    "testnum = float(input(\"give me a number:\"))\n",
    "gt_ev = get_even(testnum)"
   ]
  },
  {
   "cell_type": "code",
   "execution_count": 119,
   "id": "83ff4e39",
   "metadata": {},
   "outputs": [
    {
     "name": "stdout",
     "output_type": "stream",
     "text": [
      "EOL\n"
     ]
    }
   ],
   "source": [
    "print(next(gt_ev, 'EOL'))"
   ]
  }
 ],
 "metadata": {
  "kernelspec": {
   "display_name": "Python 3 (ipykernel)",
   "language": "python",
   "name": "python3"
  },
  "language_info": {
   "codemirror_mode": {
    "name": "ipython",
    "version": 3
   },
   "file_extension": ".py",
   "mimetype": "text/x-python",
   "name": "python",
   "nbconvert_exporter": "python",
   "pygments_lexer": "ipython3",
   "version": "3.11.5"
  }
 },
 "nbformat": 4,
 "nbformat_minor": 5
}
